{
 "cells": [
  {
   "cell_type": "code",
   "execution_count": null,
   "metadata": {},
   "outputs": [],
   "source": [
    "%load_ext autoreload \n",
    "%autoreload 2"
   ]
  },
  {
   "cell_type": "code",
   "execution_count": null,
   "metadata": {},
   "outputs": [],
   "source": [
    "import sys \n",
    "sys.path.append(\"..\")"
   ]
  },
  {
   "cell_type": "code",
   "execution_count": null,
   "metadata": {},
   "outputs": [],
   "source": [
    "import numpy as np\n",
    "import pandas as pd\n",
    "from track_reid.reid_processor import ReidProcessor"
   ]
  },
  {
   "cell_type": "code",
   "execution_count": null,
   "metadata": {},
   "outputs": [],
   "source": [
    "def bounding_box_distance(obj1, obj2):\n",
    "    # Get the bounding boxes from the Metadata of each TrackedObject\n",
    "    bbox1 = obj1.metadata.bbox\n",
    "    bbox2 = obj2.metadata.bbox\n",
    "\n",
    "    # Calculate the Euclidean distance between the centers of the bounding boxes\n",
    "    center1 = ((bbox1[0] + bbox1[2]) / 2, (bbox1[1] + bbox1[3]) / 2)\n",
    "    center2 = ((bbox2[0] + bbox2[2]) / 2, (bbox2[1] + bbox2[3]) / 2)\n",
    "    distance = np.sqrt((center1[0] - center2[0])**2 + (center1[1] - center2[1])**2)\n",
    "\n",
    "    return distance\n",
    "\n",
    "def select_by_category(obj1, obj2):\n",
    "    # Compare the categories of the two objects\n",
    "    return 1 if obj1.category == obj2.category else 0"
   ]
  },
  {
   "cell_type": "code",
   "execution_count": null,
   "metadata": {},
   "outputs": [],
   "source": [
    "# Example usage:\n",
    "data = np.array([\n",
    "    [1, 1, \"car\", 100, 200, 300, 400, 0.9],\n",
    "    [1, 2, \"person\", 50, 150, 200, 400, 0.8],\n",
    "    [2, 1, \"truck\", 120, 220, 320, 420, 0.95],\n",
    "    [2, 2, \"person\", 60, 160, 220, 420, 0.85],\n",
    "    [3, 1, \"car\", 110, 210, 310, 410, 0.91],\n",
    "    [3, 3, \"person\", 61, 170, 220, 420, 0.91],\n",
    "    [3, 4, \"car\", 60, 160, 220, 420, 0.91],\n",
    "    [3, 6, \"person\", 60, 160, 220, 420, 0.91],\n",
    "    [4, 1, \"truck\", 130, 230, 330, 430, 0.92],\n",
    "    [4, 2, \"person\", 65, 165, 225, 425, 0.83],\n",
    "    [5, 1, \"car\", 115, 215, 315, 415, 0.93],\n",
    "    [5, 2, \"person\", 57, 157, 207, 407, 0.84],\n",
    "    [5, 4, \"car\", 60, 160, 220, 420, 0.91],\n",
    "    [5, 8, \"person\", 60, 160, 220, 420, 0.91],\n",
    "])\n"
   ]
  },
  {
   "cell_type": "code",
   "execution_count": null,
   "metadata": {},
   "outputs": [],
   "source": [
    "processor = ReidProcessor(filter_confidence_threshold=0.4, \n",
    "                          filter_time_threshold=0,\n",
    "                          cost_function=bounding_box_distance,\n",
    "                          selection_function=select_by_category,\n",
    "                          max_attempt_to_rematch=0,\n",
    "                          max_frames_to_rematch=100)\n",
    "\n",
    "\n",
    "columns = ['frame_id', 'object_id', 'category', 'x1', 'y1', 'x2', 'y2', 'confidence']\n",
    "df = pd.DataFrame(data, columns=columns)\n",
    "# Convert numerical columns to the appropriate data type\n",
    "df[['frame_id', 'object_id', 'x1', 'y1', 'x2', 'y2']] = df[['frame_id', 'object_id', 'x1', 'y1', 'x2', 'y2']].astype(int)\n",
    "df['confidence'] = df['confidence'].astype(float)\n",
    "\n",
    "\n",
    "for frame_id, frame_data in df.groupby(\"frame_id\"):\n",
    "\n",
    "    bytetrack_output = frame_data.values\n",
    "    if bytetrack_output.ndim == 1 : \n",
    "        bytetrack_output = np.expand_dims(bytetrack_output, 0)\n",
    "\n",
    "    results = processor.update(bytetrack_output)\n"
   ]
  },
  {
   "cell_type": "code",
   "execution_count": null,
   "metadata": {},
   "outputs": [],
   "source": [
    "print(processor.all_tracked_objects[0])"
   ]
  },
  {
   "cell_type": "code",
   "execution_count": null,
   "metadata": {},
   "outputs": [],
   "source": [
    "print(processor.all_tracked_objects[0].metadata)"
   ]
  }
 ],
 "metadata": {
  "kernelspec": {
   "display_name": "track-reid",
   "language": "python",
   "name": "python3"
  },
  "language_info": {
   "codemirror_mode": {
    "name": "ipython",
    "version": 3
   },
   "file_extension": ".py",
   "mimetype": "text/x-python",
   "name": "python",
   "nbconvert_exporter": "python",
   "pygments_lexer": "ipython3",
   "version": "3.10.13"
  },
  "vscode": {
   "interpreter": {
    "hash": "a7fd834062a85a1fb9d4482d7456bec56e0ff99e4dd054f5e10ff6e3cdc923c6"
   }
  }
 },
 "nbformat": 4,
 "nbformat_minor": 2
}
