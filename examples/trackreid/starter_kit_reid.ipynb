{
 "cells": [
  {
   "cell_type": "code",
   "execution_count": null,
   "metadata": {},
   "outputs": [],
   "source": [
    "%load_ext autoreload\n",
    "%autoreload 2\n",
    "import os\n",
    "import glob\n",
    "import matplotlib.pyplot as plt\n",
    "import cv2\n",
    "import numpy as np\n",
    "import pandas as pd\n",
    "\n",
    "from ultralytics import YOLO"
   ]
  },
  {
   "cell_type": "markdown",
   "metadata": {},
   "source": [
    "### Let's try to detect jungling balls"
   ]
  },
  {
   "cell_type": "markdown",
   "metadata": {},
   "source": [
    "Download the demo .mp4 video"
   ]
  },
  {
   "cell_type": "code",
   "execution_count": null,
   "metadata": {},
   "outputs": [],
   "source": [
    "# Download the video\n",
    "VIDEO_PATH = 'data/jungling_guy.mp4'\n",
    "!if [ ! -f $VIDEO_PATH ]; then mkdir -p data && wget https://storage.googleapis.com/track-reid/data/jungling_guy.mp4 -O $VIDEO_PATH; fi"
   ]
  },
  {
   "cell_type": "code",
   "execution_count": null,
   "metadata": {},
   "outputs": [],
   "source": [
    "from IPython.display import Video\n",
    "Video(VIDEO_PATH, width=800)"
   ]
  },
  {
   "cell_type": "markdown",
   "metadata": {},
   "source": [
    "# Video to frames"
   ]
  },
  {
   "cell_type": "code",
   "execution_count": null,
   "metadata": {},
   "outputs": [],
   "source": [
    "# You can run this only once:\n",
    "# Transform this VIDEO_PATH into a list of frames in this folder under frames/\n",
    "!mkdir -p frames && ffmpeg -i $VIDEO_PATH -vf fps=12 frames/%d.png -hide_banner -loglevel panic"
   ]
  },
  {
   "cell_type": "code",
   "execution_count": null,
   "metadata": {},
   "outputs": [],
   "source": [
    "available_frames = glob.glob(\"frames/*.png\")\n",
    "available_frames = sorted(available_frames, key=lambda x: int(x.split(\"/\")[-1].split(\".\")[0]))"
   ]
  },
  {
   "cell_type": "markdown",
   "metadata": {},
   "source": [
    "# Detection"
   ]
  },
  {
   "cell_type": "code",
   "execution_count": null,
   "metadata": {},
   "outputs": [],
   "source": [
    "%matplotlib inline\n",
    "model = YOLO(\"yolov8n.pt\")\n",
    "results = model(available_frames[0])[0]\n",
    "\n",
    "plt.imshow(cv2.cvtColor(results.plot(), cv2.COLOR_BGR2RGB))\n",
    "plt.show()"
   ]
  },
  {
   "cell_type": "code",
   "execution_count": null,
   "metadata": {},
   "outputs": [],
   "source": [
    "### We will track only sports ball so we need to filter them out\n",
    "SPORTS_BALL_CLASS_ID = 32"
   ]
  },
  {
   "cell_type": "code",
   "execution_count": null,
   "metadata": {},
   "outputs": [],
   "source": [
    "from bytetracker import BYTETracker\n",
    "from bytetracker.basetrack import BaseTrack\n",
    "from utils import draw_all_bbox_on_image, yolo_results_to_bytetrack_format, scale_bbox_as_xyxy\n",
    "\n",
    "from trackreid.reid_processor import ReidProcessor"
   ]
  },
  {
   "cell_type": "markdown",
   "metadata": {},
   "source": [
    "## Tracking without trackreid"
   ]
  },
  {
   "cell_type": "code",
   "execution_count": null,
   "metadata": {},
   "outputs": [],
   "source": [
    "tracker = BYTETracker(track_thresh= 0.15, track_buffer = 3, match_thresh = 0.85, frame_rate= 12)\n",
    "BaseTrack._count = 0\n",
    "model = YOLO(\"yolov8n.pt\", task=\"detect\")"
   ]
  },
  {
   "cell_type": "code",
   "execution_count": null,
   "metadata": {},
   "outputs": [],
   "source": [
    "all_tracked_objects  = []\n",
    "for frame_id, image_filename in enumerate(available_frames):\n",
    "    img = cv2.imread(image_filename)\n",
    "    detections = model.predict(img, classes=[SPORTS_BALL_CLASS_ID], conf=0.15, verbose=False)[0]\n",
    "    detections_bytetrack_format = yolo_results_to_bytetrack_format(detections)\n",
    "    tracked_objects = tracker.update(detections_bytetrack_format, frame_id)\n",
    "    if len(tracked_objects) > 0:\n",
    "        tracked_objects = np.insert(tracked_objects, 0, frame_id, axis=1)\n",
    "        all_tracked_objects.append(tracked_objects)"
   ]
  },
  {
   "cell_type": "markdown",
   "metadata": {},
   "source": [
    "#### • Create a dataframe with the tracking informations\n",
    "\n",
    "#### • Rescale the bbox to the original image size"
   ]
  },
  {
   "cell_type": "code",
   "execution_count": null,
   "metadata": {},
   "outputs": [],
   "source": [
    "df_tracked = pd.DataFrame(np.concatenate(all_tracked_objects), columns=[\"frame_id\", \"x1\", \"y1\", \"x2\", \"y2\", \"track_id\", \"class\", \"confidence\"])\n",
    "df_tracked[[\"x1\", \"y1\", \"x2\", \"y2\"]] = df_tracked[[\"x1\", \"y1\", \"x2\", \"y2\"]].apply(\n",
    "    lambda x: scale_bbox_as_xyxy(x[0:4], detections.orig_shape), axis=1, result_type=\"expand\"\n",
    "    )\n"
   ]
  },
  {
   "cell_type": "markdown",
   "metadata": {},
   "source": [
    "### Show tracking video"
   ]
  },
  {
   "cell_type": "code",
   "execution_count": null,
   "metadata": {},
   "outputs": [],
   "source": [
    "fourcc = cv2.VideoWriter_fourcc(*'mp4v') \n",
    "OUTPUT_WITH_BBOX_NO_REID = \"videos/video_bbox_no_reid.mp4\"\n",
    "out = cv2.VideoWriter(OUTPUT_WITH_BBOX_NO_REID, fourcc, 12, (1280, 720))\n",
    "for frame_id, image_filename in enumerate(available_frames):\n",
    "    image = cv2.imread(image_filename)\n",
    "    if frame_id in df_tracked.frame_id.astype('int').values:\n",
    "        df_current_frame = df_tracked[df_tracked.frame_id == frame_id][[\"x1\", \"y1\", \"x2\", \"y2\", \"track_id\", \"class\", \"confidence\"]].to_numpy()\n",
    "        image = draw_all_bbox_on_image(image, df_current_frame)\n",
    "    out.write(image)\n",
    "out.release()\n",
    "print(\"Video with bounding box without reid is saved at:\", OUTPUT_WITH_BBOX_NO_REID)"
   ]
  },
  {
   "cell_type": "code",
   "execution_count": null,
   "metadata": {},
   "outputs": [],
   "source": [
    "print(\"Number of detected objects: \", len(df_tracked.track_id.unique()))"
   ]
  },
  {
   "cell_type": "markdown",
   "metadata": {},
   "source": [
    "## Tracking with trackreid"
   ]
  },
  {
   "cell_type": "code",
   "execution_count": null,
   "metadata": {},
   "outputs": [],
   "source": [
    "tracker = BYTETracker(track_thresh= 0.15, track_buffer = 3, match_thresh = 0.85, frame_rate= 12)\n",
    "BaseTrack._count = 0\n",
    "model = YOLO(\"yolov8n.pt\", task=\"detect\")\n",
    "\n",
    "reid_processor = ReidProcessor(filter_confidence_threshold=0.15,\n",
    "                                    filter_time_threshold=5,\n",
    "                                    cost_function_threshold=5000, # max cost to rematch 2 objects\n",
    "                                    max_attempt_to_match=10,\n",
    "                                    max_frames_to_rematch=10,\n",
    "                                    )"
   ]
  },
  {
   "cell_type": "code",
   "execution_count": null,
   "metadata": {},
   "outputs": [],
   "source": [
    "all_tracked_objects  = []\n",
    "for frame_id, image_filename in enumerate(available_frames):\n",
    "    detections = model.predict(image_filename, classes=[SPORTS_BALL_CLASS_ID], conf=0.15, verbose=False)[0]\n",
    "    detections_bytetrack_format = yolo_results_to_bytetrack_format(detections)\n",
    "    tracked_objects = tracker.update(detections_bytetrack_format, frame_id)\n",
    "    corrected_tracked_objects = reid_processor.update(tracked_objects, frame_id)\n",
    "    if len(corrected_tracked_objects) > 0:\n",
    "        all_tracked_objects.append(corrected_tracked_objects)\n",
    "    "
   ]
  },
  {
   "cell_type": "code",
   "execution_count": null,
   "metadata": {},
   "outputs": [],
   "source": [
    "df_tracked = pd.DataFrame(np.concatenate(all_tracked_objects), columns=[\"frame_id\", \"track_id\", \"class\", \"x1\", \"y1\", \"x2\", \"y2\", \"confidence\", \"mean_confidence\", \"orginal_track_id\"])\n",
    "df_tracked[[\"x1\", \"y1\", \"x2\", \"y2\"]] = df_tracked[[\"x1\", \"y1\", \"x2\", \"y2\"]].apply(\n",
    "    lambda x: scale_bbox_as_xyxy(x[0:4], detections.orig_shape), axis=1, result_type=\"expand\"\n",
    "    )"
   ]
  },
  {
   "cell_type": "code",
   "execution_count": null,
   "metadata": {},
   "outputs": [],
   "source": [
    "fourcc = cv2.VideoWriter_fourcc(*'mp4v') \n",
    "OUTPUT_WITH_BBOX_REID = \"videos/video_bbox_with_reid.mp4\"\n",
    "out = cv2.VideoWriter(OUTPUT_WITH_BBOX_REID, fourcc, 12, (1280, 720))\n",
    "for frame_id, image_filename in enumerate(available_frames):\n",
    "    image = cv2.imread(image_filename)\n",
    "    if frame_id in df_tracked.frame_id.astype('int').values:\n",
    "        df_current_frame = df_tracked[df_tracked.frame_id == frame_id][[\"x1\", \"y1\", \"x2\", \"y2\", \"track_id\", \"class\", \"confidence\"]].to_numpy()\n",
    "        image = draw_all_bbox_on_image(image, df_current_frame)\n",
    "    out.write(image)\n",
    "out.release()\n",
    "print(\"Video with bounding box with reid is saved at:\", OUTPUT_WITH_BBOX_REID)\n"
   ]
  },
  {
   "cell_type": "markdown",
   "metadata": {},
   "source": [
    "### You can access informations about the tracked object from the ReidProcessor object"
   ]
  },
  {
   "cell_type": "code",
   "execution_count": null,
   "metadata": {},
   "outputs": [],
   "source": [
    "print(\"Number of detected objects: \", len(reid_processor.seen_objects))"
   ]
  },
  {
   "cell_type": "code",
   "execution_count": null,
   "metadata": {},
   "outputs": [],
   "source": [
    "reid_processor.seen_objects"
   ]
  }
 ],
 "metadata": {
  "kernelspec": {
   "display_name": "track-reid",
   "language": "python",
   "name": "python3"
  },
  "language_info": {
   "codemirror_mode": {
    "name": "ipython",
    "version": 3
   },
   "file_extension": ".py",
   "mimetype": "text/x-python",
   "name": "python",
   "nbconvert_exporter": "python",
   "pygments_lexer": "ipython3",
   "version": "3.10.13"
  },
  "vscode": {
   "interpreter": {
    "hash": "a7fd834062a85a1fb9d4482d7456bec56e0ff99e4dd054f5e10ff6e3cdc923c6"
   }
  }
 },
 "nbformat": 4,
 "nbformat_minor": 2
}
